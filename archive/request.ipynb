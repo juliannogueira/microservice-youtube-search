{
 "cells": [
  {
   "cell_type": "code",
   "execution_count": 9,
   "metadata": {},
   "outputs": [],
   "source": [
    "import requests\n",
    "\n",
    "response = requests.post(\n",
    "    url='http://localhost:5419/video/search',\n",
    "    json={\n",
    "        'query': 'happy birthday to you'\n",
    "    }\n",
    ")\n",
    "\n",
    "href = response.json()['href']"
   ]
  },
  {
   "cell_type": "code",
   "execution_count": 11,
   "metadata": {},
   "outputs": [],
   "source": [
    "import requests\n",
    "\n",
    "response = requests.post(\n",
    "    url='http://localhost:5419/video/search',\n",
    "    json={\n",
    "        'query': ''\n",
    "    }\n",
    ")\n",
    "\n",
    "href = response.json()['href']"
   ]
  }
 ],
 "metadata": {
  "kernelspec": {
   "display_name": "Python 3.9.0 64-bit",
   "language": "python",
   "name": "python3"
  },
  "language_info": {
   "codemirror_mode": {
    "name": "ipython",
    "version": 3
   },
   "file_extension": ".py",
   "mimetype": "text/x-python",
   "name": "python",
   "nbconvert_exporter": "python",
   "pygments_lexer": "ipython3",
   "version": "3.9.0"
  },
  "orig_nbformat": 4,
  "vscode": {
   "interpreter": {
    "hash": "f8d7dee10318d10b0bebd95c379c95fb306e1b0d7776845c2925d135cd4a80dd"
   }
  }
 },
 "nbformat": 4,
 "nbformat_minor": 2
}
